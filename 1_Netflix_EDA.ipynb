{
 "cells": [
  {
   "cell_type": "markdown",
   "metadata": {},
   "source": [
    "<p style=\"font-size:32px;text-align:center\"><font color=MediumVioletRed><b>Netflix Movie Recommendations</b></font></p>\n",
    "<p style=\"font-size:20px;text-align:center\"><b><font color=DarkGoldenRod>Part 1</font></b></p>"
   ]
  },
  {
   "cell_type": "markdown",
   "metadata": {},
   "source": [
    "<h3><font color=Teal>Business Problem Description</font></h3>\n",
    "- <p style=\"font-size:15px\">**Netflix** is all about connecting people to the movies they love. To help customers find those movies, they developed world-class movie recommendation system: CinematchSM. Its job is to predict whether someone will enjoy a movie based on how much they liked or disliked other movies. **Netflix** use those predictions to make personal movie recommendations based on each customer’s unique tastes. And while Cinematch is doing pretty well, it can always be made better.</p>\n",
    "- <p style=\"font-size:15px\">Now there are a lot of interesting alternative approaches to how Cinematch works that **Netflix** haven’t tried. Some are described in the literature, some aren’t. We’re curious whether any of these can beat Cinematch by making better predictions. Because, frankly, if there is a much better approach it could make a big difference to our customers and our business.</p>\n",
    "    \n",
    "<h3><font color=Teal>Problem Statement</font></h3>\n",
    "- <p style=\"font-size:15px\">**Netflix** provided a lot of anonymous rating data, and a prediction accuracy bar that is 10% better than what Cinematch can do on the same training data set. (Accuracy is a measurement of how closely predicted ratings of movies match subsequent actual ratings)</p>   \n",
    " \n",
    "    <p style=\"font-size:15px\">Credits : <a href=\"https://www.kaggle.com/netflix-inc/netflix-prize-data\">Kaggle</a></p>\n",
    "    \n",
    "<h3><font color=Teal>Real World/Business Objectives and Constraints</font></h3>\n",
    "<p style=\"font-size:17px\">**Objectives:**</p>\n",
    "<p style=\"font-size:15px\">1. Predict the rating that a user would give to a movie that he ahs not yet rated.<br>\n",
    "2. Minimize the difference between predicted and actual rating (RMSE and MAPE)</p>\n",
    "<p style=\"font-size:17px\">**Constraints:**</p>\n",
    "<p style=\"font-size:15px\">1. Some form of Interpretability.<br>\n",
    "2. Minimize <a href=\"https://en.wikipedia.org/wiki/Root-mean-square_deviation\">RMSE</a> (Root Mean Square Error)</p>\n",
    "\n",
    "<h3><font color=Teal>Data</font></h3>\n",
    "<p style=\"font-size:15px\">Get the data from : <a href=\"https://www.kaggle.com/netflix-inc/netflix-prize-data\">Kaggle</a></p>\n",
    "\n",
    "<h3><font color=Teal>Type of Machine Learning Problem</font></h3>\n",
    "<p style=\"font-size:15px\">1. For a given movie and user we need to predict the rating would be given by him/her to the movie. <br>\n",
    "2. The given problem is a Recommendation Problem.<br>\n",
    "3. It can also seen as a Regression Problem.\n",
    "</p>\n"
   ]
  },
  {
   "cell_type": "code",
   "execution_count": 2,
   "metadata": {},
   "outputs": [],
   "source": [
    "import warnings\n",
    "warnings.filterwarnings('ignore')\n",
    "\n",
    "from datetime import datetime\n",
    "import pandas as pd\n",
    "import numpy as np\n",
    "import matplotlib.pyplot as plt\n",
    "import seaborn as sns\n",
    "\n",
    "from scipy import sparse\n",
    "from scipy.sparse import csr_matrix\n",
    "from sklearn.decomposition import TruncatedSVD\n",
    "from sklearn.metrics.pairwise import cosine_similarity\n",
    "import random\n",
    "\n",
    "import os\n",
    "os.chdir(\"D:/Applied_Ai/Case Studies/Netflix Movie Recommendation\")"
   ]
  },
  {
   "cell_type": "markdown",
   "metadata": {},
   "source": [
    "<h3><font color=DarkMagenta>Loading and Reading Data</font></h3>"
   ]
  },
  {
   "cell_type": "code",
   "execution_count": 3,
   "metadata": {},
   "outputs": [],
   "source": [
    "#we have four text files - combined_data_1.txt, combined_data_2.txt, combined_data_3.txt, combined_data_4.txt\n",
    "os.chdir(\"D:/Applied_Ai/Case Studies/Netflix Movie Recommendation\")"
   ]
  },
  {
   "cell_type": "markdown",
   "metadata": {},
   "source": [
    "<p style=\"font-size:15px\"><b><font color=SaddleBrown>Converting/Merging Whole Data To Required Format: u_i, m_j, r_ij</font></b></p>"
   ]
  },
  {
   "cell_type": "code",
   "execution_count": 5,
   "metadata": {},
   "outputs": [],
   "source": [
    "if not os.path.isfile('data.csv'):\n",
    "    start = datetime.now()\n",
    "    #create a file 'data.csv' before reading it\n",
    "    #read all the files in netflix and store them in one big file('data.csv')\n",
    "    #we re reading from each of the four files and appendig each rating to a global file 'train.csv'\n",
    "    \n",
    "    data = open('data.csv', mode='w')\n",
    "    \n",
    "    row = list()\n",
    "    files=['data_folder/combined_data_1.txt','data_folder/combined_data_2.txt', \n",
    "           'data_folder/combined_data_3.txt', 'data_folder/combined_data_4.txt']\n",
    "    for file in files:\n",
    "        print(\"Reading Ratings From {}\".format(file))\n",
    "        with open(file) as f:\n",
    "            for line in f: \n",
    "                del row[:]\n",
    "                line = line.strip() #removes any leading (spaces at the beginning) and trailing (spaces at the end) characters\n",
    "                if line.endswith(':'):\n",
    "                    #all below are ratings for this movie, until another movie appears\n",
    "                    movie_id = line.replace(':', '')\n",
    "                else:\n",
    "                    row = [x for x in line.split(',')]\n",
    "                    row.insert(0, movie_id)\n",
    "                    data.write(','.join(row))\n",
    "                    data.write('\\n')\n",
    "        print(\"Done...\\n\")\n",
    "        print('Time Taken :', datetime.now() - start)\n",
    "    data.close()"
   ]
  },
  {
   "cell_type": "code",
   "execution_count": 6,
   "metadata": {},
   "outputs": [
    {
     "name": "stdout",
     "output_type": "stream",
     "text": [
      "Creating The Dataframe From 'data.csv' File..\n",
      "Done...\n",
      "\n",
      "Sorting The Dataframe By Date..\n",
      "Done...\n"
     ]
    }
   ],
   "source": [
    "print(\"Creating The Dataframe From 'data.csv' File..\")\n",
    "ratings_data = pd.read_csv('data.csv', sep=',', names=['movie','user','rating','date'])\n",
    "ratings_data.date = pd.to_datetime(ratings_data.date) #method helps to convert string Date time into Python Date time object\n",
    "print('Done...\\n')\n",
    "\n",
    "#we are arranging/sorting the ratings according to time\n",
    "print('Sorting The Dataframe By Date..')\n",
    "ratings_data.sort_values(by='date', inplace=True)\n",
    "print('Done...')"
   ]
  },
  {
   "cell_type": "code",
   "execution_count": 7,
   "metadata": {},
   "outputs": [
    {
     "data": {
      "text/html": [
       "<div>\n",
       "<style scoped>\n",
       "    .dataframe tbody tr th:only-of-type {\n",
       "        vertical-align: middle;\n",
       "    }\n",
       "\n",
       "    .dataframe tbody tr th {\n",
       "        vertical-align: top;\n",
       "    }\n",
       "\n",
       "    .dataframe thead th {\n",
       "        text-align: right;\n",
       "    }\n",
       "</style>\n",
       "<table border=\"1\" class=\"dataframe\">\n",
       "  <thead>\n",
       "    <tr style=\"text-align: right;\">\n",
       "      <th></th>\n",
       "      <th>movie</th>\n",
       "      <th>user</th>\n",
       "      <th>rating</th>\n",
       "      <th>date</th>\n",
       "    </tr>\n",
       "  </thead>\n",
       "  <tbody>\n",
       "    <tr>\n",
       "      <th>56431994</th>\n",
       "      <td>10341</td>\n",
       "      <td>510180</td>\n",
       "      <td>4</td>\n",
       "      <td>1999-11-11</td>\n",
       "    </tr>\n",
       "    <tr>\n",
       "      <th>9056171</th>\n",
       "      <td>1798</td>\n",
       "      <td>510180</td>\n",
       "      <td>5</td>\n",
       "      <td>1999-11-11</td>\n",
       "    </tr>\n",
       "    <tr>\n",
       "      <th>58698779</th>\n",
       "      <td>10774</td>\n",
       "      <td>510180</td>\n",
       "      <td>3</td>\n",
       "      <td>1999-11-11</td>\n",
       "    </tr>\n",
       "    <tr>\n",
       "      <th>48101611</th>\n",
       "      <td>8651</td>\n",
       "      <td>510180</td>\n",
       "      <td>2</td>\n",
       "      <td>1999-11-11</td>\n",
       "    </tr>\n",
       "    <tr>\n",
       "      <th>81893208</th>\n",
       "      <td>14660</td>\n",
       "      <td>510180</td>\n",
       "      <td>2</td>\n",
       "      <td>1999-11-11</td>\n",
       "    </tr>\n",
       "  </tbody>\n",
       "</table>\n",
       "</div>"
      ],
      "text/plain": [
       "          movie    user  rating       date\n",
       "56431994  10341  510180       4 1999-11-11\n",
       "9056171    1798  510180       5 1999-11-11\n",
       "58698779  10774  510180       3 1999-11-11\n",
       "48101611   8651  510180       2 1999-11-11\n",
       "81893208  14660  510180       2 1999-11-11"
      ]
     },
     "execution_count": 7,
     "metadata": {},
     "output_type": "execute_result"
    }
   ],
   "source": [
    "ratings_data.head()"
   ]
  },
  {
   "cell_type": "code",
   "execution_count": null,
   "metadata": {},
   "outputs": [],
   "source": [
    "ratings_data.to_csv(\"ratings_data.csv\", index=False)"
   ]
  },
  {
   "cell_type": "code",
   "execution_count": 8,
   "metadata": {},
   "outputs": [
    {
     "data": {
      "text/plain": [
       "count    1.004805e+08\n",
       "mean     3.604290e+00\n",
       "std      1.085219e+00\n",
       "min      1.000000e+00\n",
       "25%      3.000000e+00\n",
       "50%      4.000000e+00\n",
       "75%      4.000000e+00\n",
       "max      5.000000e+00\n",
       "Name: rating, dtype: float64"
      ]
     },
     "execution_count": 8,
     "metadata": {},
     "output_type": "execute_result"
    }
   ],
   "source": [
    "ratings_data.describe()['rating']"
   ]
  },
  {
   "cell_type": "markdown",
   "metadata": {},
   "source": [
    "<p style=\"font-size:15px\"><b><font color=SaddleBrown>Checking For NaN Values</font></b></p>"
   ]
  },
  {
   "cell_type": "code",
   "execution_count": 11,
   "metadata": {},
   "outputs": [
    {
     "name": "stdout",
     "output_type": "stream",
     "text": [
      "NUMBER OF NAN VALUES IN THE DATASET - 0\n"
     ]
    }
   ],
   "source": [
    "#just to make sure that all the NaN containing rows are deleted\n",
    "print(\"NUMBER OF NAN VALUES IN THE DATASET -\",sum(ratings_data.isnull().any()))"
   ]
  },
  {
   "cell_type": "markdown",
   "metadata": {},
   "source": [
    "<p style=\"font-size:15px\"><b><font color=SaddleBrown>Removing Duplicates</font></b></p>"
   ]
  },
  {
   "cell_type": "code",
   "execution_count": 12,
   "metadata": {},
   "outputs": [
    {
     "name": "stdout",
     "output_type": "stream",
     "text": [
      "THERE ARE 0 DUPLICATE RATING ENTRIES IN THE DATASET\n"
     ]
    }
   ],
   "source": [
    "dup_data = ratings_data.duplicated(['movie','user','rating'])\n",
    "dup_sum = sum(dup_data) #by considering all columns (including timestamp)\n",
    "print(\"THERE ARE {} DUPLICATE RATING ENTRIES IN THE DATASET\".format(dup_sum))"
   ]
  },
  {
   "cell_type": "markdown",
   "metadata": {},
   "source": [
    "<p style=\"font-size:15px\"><b><font color=SaddleBrown>Basic Statistics</font></b></p>"
   ]
  },
  {
   "cell_type": "code",
   "execution_count": 13,
   "metadata": {},
   "outputs": [
    {
     "name": "stdout",
     "output_type": "stream",
     "text": [
      "TOTAL NUMBER OF RATINGS - 100480507\n",
      "TOTAL NUMBER OF USERS - 480189\n",
      "TOTAL NUMBER OF MOVIES - 17770\n"
     ]
    }
   ],
   "source": [
    "print(\"TOTAL NUMBER OF RATINGS -\",ratings_data.shape[0])\n",
    "print(\"TOTAL NUMBER OF USERS -\",len(np.unique(ratings_data['user'])))\n",
    "print(\"TOTAL NUMBER OF MOVIES -\",len(np.unique(ratings_data['movie'])))"
   ]
  },
  {
   "cell_type": "markdown",
   "metadata": {},
   "source": [
    "<h3><font color=DarkMagenta>Spliting Data Into Train and Test (80:20)</font></h3>"
   ]
  },
  {
   "cell_type": "code",
   "execution_count": 15,
   "metadata": {},
   "outputs": [],
   "source": [
    "#we already sorted data according to date and now split data based on date (Time Based Spliting)\n",
    "if not os.path.isfile(\"train_data.csv\"):\n",
    "    #create the dataframe and store it in the disk for offline purposes\n",
    "    ratings_data.iloc[:int(ratings_data.shape[0]*0.80)].to_csv(\"train_data.csv\", index=False)\n",
    "\n",
    "if not os.path.isfile(\"test_data.csv\"):\n",
    "    #create the dataframe and store it in the disk for offline purposes\n",
    "    ratings_data.iloc[int(ratings_data.shape[0]*0.80):].to_csv(\"test_data.csv\", index=False)"
   ]
  },
  {
   "cell_type": "code",
   "execution_count": 23,
   "metadata": {},
   "outputs": [],
   "source": [
    "train_data = pd.read_csv(\"train_data.csv\", parse_dates=['date'])\n",
    "test_data = pd.read_csv(\"test_data.csv\")"
   ]
  },
  {
   "cell_type": "markdown",
   "metadata": {},
   "source": [
    "<p style=\"font-size:15px\"><b><font color=SaddleBrown>Basic Statistics On Train Data</font></b></p>"
   ]
  },
  {
   "cell_type": "code",
   "execution_count": 17,
   "metadata": {},
   "outputs": [
    {
     "name": "stdout",
     "output_type": "stream",
     "text": [
      "TOTAL NUMBER OF RATINGS - 80384405\n",
      "TOTAL NUMBER OF USERS - 405041\n",
      "TOTAL NUMBER OF MOVIES - 17424\n"
     ]
    }
   ],
   "source": [
    "print(\"TOTAL NUMBER OF RATINGS -\",train_data.shape[0])\n",
    "print(\"TOTAL NUMBER OF USERS -\",len(np.unique(train_data['user'])))\n",
    "print(\"TOTAL NUMBER OF MOVIES -\",len(np.unique(train_data['movie'])))"
   ]
  },
  {
   "cell_type": "markdown",
   "metadata": {},
   "source": [
    "<p style=\"font-size:15px\"><b><font color=SaddleBrown>Basic Statistics On Test Data</font></b></p>"
   ]
  },
  {
   "cell_type": "code",
   "execution_count": 25,
   "metadata": {},
   "outputs": [
    {
     "name": "stdout",
     "output_type": "stream",
     "text": [
      "TOTAL NUMBER OF RATINGS - 20096102\n",
      "TOTAL NUMBER OF USERS - 349312\n",
      "TOTAL NUMBER OF MOVIES - 17757\n"
     ]
    }
   ],
   "source": [
    "print(\"TOTAL NUMBER OF RATINGS -\",test_data.shape[0])\n",
    "print(\"TOTAL NUMBER OF USERS -\",len(np.unique(test_data['user'])))\n",
    "print(\"TOTAL NUMBER OF MOVIES -\",len(np.unique(test_data['movie'])))"
   ]
  },
  {
   "cell_type": "markdown",
   "metadata": {},
   "source": [
    "<h3><font color=DarkMagenta>Exploratory Data Analysis On Train Data</font></h3>"
   ]
  },
  {
   "cell_type": "markdown",
   "metadata": {},
   "source": [
    "<p style=\"font-size:15px\"><b><font color=SaddleBrown>Distribution of Ratings</font></b></p>"
   ]
  },
  {
   "cell_type": "code",
   "execution_count": 54,
   "metadata": {},
   "outputs": [],
   "source": [
    "#method to make y-axis more readable\n",
    "def y_axis(num, units = 'M'):\n",
    "    units = units.lower()\n",
    "    num = float(num)\n",
    "    if units == 'k':\n",
    "        return str(num/10**3) + \" K\"\n",
    "    elif units == 'm':\n",
    "        return str(num/10**6) + \" M\"\n",
    "    elif units == 'b':\n",
    "        return str(num/10**9) +  \" B\""
   ]
  },
  {
   "cell_type": "code",
   "execution_count": 56,
   "metadata": {},
   "outputs": [
    {
     "data": {
      "image/png": "[encoded data removed]",
      "text/plain": [
       "<Figure size 720x432 with 1 Axes>"
      ]
     },
     "metadata": {
      "needs_background": "light"
     },
     "output_type": "display_data"
    }
   ],
   "source": [
    "fig, ax = plt.subplots(figsize=(10,6))\n",
    "plt.title('Distribution of Ratings Over Training Dataset', fontsize=15)\n",
    "sns.countplot(train_data.rating)\n",
    "\n",
    "ax.set_yticklabels([y_axis(num, 'M') for num in ax.get_yticks()])\n",
    "ax.set_ylabel('Number of Ratings (Millions)')\n",
    "ax.set_xlabel('Ratings')\n",
    "\n",
    "plt.show()"
   ]
  },
  {
   "cell_type": "markdown",
   "metadata": {},
   "source": [
    "<p style=\"font-size:15px\"><b><font color=SaddleBrown>Add New Column \"Day\" In Dataset For Data Analysis</font></b></p>"
   ]
  },
  {
   "cell_type": "code",
   "execution_count": 64,
   "metadata": {},
   "outputs": [
    {
     "data": {
      "text/html": [
       "<div>\n",
       "<style scoped>\n",
       "    .dataframe tbody tr th:only-of-type {\n",
       "        vertical-align: middle;\n",
       "    }\n",
       "\n",
       "    .dataframe tbody tr th {\n",
       "        vertical-align: top;\n",
       "    }\n",
       "\n",
       "    .dataframe thead th {\n",
       "        text-align: right;\n",
       "    }\n",
       "</style>\n",
       "<table border=\"1\" class=\"dataframe\">\n",
       "  <thead>\n",
       "    <tr style=\"text-align: right;\">\n",
       "      <th></th>\n",
       "      <th>movie</th>\n",
       "      <th>user</th>\n",
       "      <th>rating</th>\n",
       "      <th>date</th>\n",
       "      <th>day_of_week</th>\n",
       "    </tr>\n",
       "  </thead>\n",
       "  <tbody>\n",
       "    <tr>\n",
       "      <th>0</th>\n",
       "      <td>10341</td>\n",
       "      <td>510180</td>\n",
       "      <td>4</td>\n",
       "      <td>1999-11-11</td>\n",
       "      <td>Thursday</td>\n",
       "    </tr>\n",
       "    <tr>\n",
       "      <th>1</th>\n",
       "      <td>1798</td>\n",
       "      <td>510180</td>\n",
       "      <td>5</td>\n",
       "      <td>1999-11-11</td>\n",
       "      <td>Thursday</td>\n",
       "    </tr>\n",
       "    <tr>\n",
       "      <th>2</th>\n",
       "      <td>10774</td>\n",
       "      <td>510180</td>\n",
       "      <td>3</td>\n",
       "      <td>1999-11-11</td>\n",
       "      <td>Thursday</td>\n",
       "    </tr>\n",
       "    <tr>\n",
       "      <th>3</th>\n",
       "      <td>8651</td>\n",
       "      <td>510180</td>\n",
       "      <td>2</td>\n",
       "      <td>1999-11-11</td>\n",
       "      <td>Thursday</td>\n",
       "    </tr>\n",
       "    <tr>\n",
       "      <th>4</th>\n",
       "      <td>14660</td>\n",
       "      <td>510180</td>\n",
       "      <td>2</td>\n",
       "      <td>1999-11-11</td>\n",
       "      <td>Thursday</td>\n",
       "    </tr>\n",
       "  </tbody>\n",
       "</table>\n",
       "</div>"
      ],
      "text/plain": [
       "   movie    user  rating       date day_of_week\n",
       "0  10341  510180       4 1999-11-11    Thursday\n",
       "1   1798  510180       5 1999-11-11    Thursday\n",
       "2  10774  510180       3 1999-11-11    Thursday\n",
       "3   8651  510180       2 1999-11-11    Thursday\n",
       "4  14660  510180       2 1999-11-11    Thursday"
      ]
     },
     "execution_count": 64,
     "metadata": {},
     "output_type": "execute_result"
    }
   ],
   "source": [
    "train_data['day_of_week'] = train_data['date'].dt.day_name()\n",
    "\n",
    "train_data.head()"
   ]
  },
  {
   "cell_type": "markdown",
   "metadata": {},
   "source": [
    "<p style=\"font-size:15px\"><b><font color=SaddleBrown>Number of Ratings Per Month</font></b></p>"
   ]
  },
  {
   "cell_type": "code",
   "execution_count": 121,
   "metadata": {},
   "outputs": [
    {
     "data": {
      "image/png": "[encoded data removed]",
      "text/plain": [
       "<Figure size 864x504 with 1 Axes>"
      ]
     },
     "metadata": {},
     "output_type": "display_data"
    }
   ],
   "source": [
    "ax = plt.subplots(figsize=(12,7))\n",
    "ax = train_data.resample('m', on='date')['rating'].count().plot(colormap='autumn')\n",
    "\n",
    "ax.set_yticklabels([y_axis(num, 'M') for num in ax.get_yticks()])\n",
    "ax.set_title(\"Number of Ratings Per Month (Training Data)\", fontsize=15)\n",
    "ax.set_xlabel('Month', fontsize=12)\n",
    "ax.set_ylabel('Number of Ratings', fontsize=12)\n",
    "#ax.grid()\n",
    "\n",
    "plt.show()"
   ]
  },
  {
   "cell_type": "markdown",
   "metadata": {},
   "source": [
    "<p style=\"font-size:15px\"><b><font color=SaddleBrown>Analysis On The Ratings Given By User</font></b></p>"
   ]
  },
  {
   "cell_type": "code",
   "execution_count": 82,
   "metadata": {},
   "outputs": [
    {
     "data": {
      "text/plain": [
       "user\n",
       "305344     17112\n",
       "2439493    15896\n",
       "387418     15402\n",
       "1639792     9767\n",
       "1461435     9447\n",
       "Name: rating, dtype: int64"
      ]
     },
     "execution_count": 82,
     "metadata": {},
     "output_type": "execute_result"
    }
   ],
   "source": [
    "number_of_rated_movies_per_user = train_data.groupby(by='user')['rating'].count().sort_values(ascending=False)\n",
    "\n",
    "number_of_rated_movies_per_user.head()\n",
    "\n",
    "#user_305344 rated 17112 movies"
   ]
  },
  {
   "cell_type": "code",
   "execution_count": 99,
   "metadata": {},
   "outputs": [
    {
     "data": {
      "text/plain": [
       "count    405041.000000\n",
       "mean        198.459921\n",
       "std         290.793238\n",
       "min           1.000000\n",
       "25%          34.000000\n",
       "50%          89.000000\n",
       "75%         245.000000\n",
       "max       17112.000000\n",
       "Name: rating, dtype: float64"
      ]
     },
     "execution_count": 99,
     "metadata": {},
     "output_type": "execute_result"
    }
   ],
   "source": [
    "number_of_rated_movies_per_user.describe()"
   ]
  },
  {
   "cell_type": "code",
   "execution_count": 100,
   "metadata": {},
   "outputs": [],
   "source": [
    "quantiles = number_of_rated_movies_per_user.quantile(np.arange(0,1.01,0.01), interpolation='higher')"
   ]
  },
  {
   "cell_type": "code",
   "execution_count": 119,
   "metadata": {},
   "outputs": [
    {
     "data": {
      "image/png": "[encoded data removed]",
      "text/plain": [
       "<Figure size 648x432 with 1 Axes>"
      ]
     },
     "metadata": {},
     "output_type": "display_data"
    }
   ],
   "source": [
    "plt.figure(figsize=(9,6))\n",
    "plt.title(\"Quantiles And Their Values\", fontsize=15)\n",
    "quantiles.plot()\n",
    "\n",
    "#quantiles with 0.05 difference\n",
    "plt.scatter(x=quantiles.index[::5], y=quantiles.values[::5], c='orange', label=\"Quantiles With 0.05 Intervals\")\n",
    "\n",
    "#quantiles with 0.25 difference\n",
    "plt.scatter(x=quantiles.index[::25], y=quantiles.values[::25], c='m', label = \"Quantiles With 0.25 Intervals\")\n",
    "\n",
    "plt.ylabel('Number of Ratings By User', fontsize=12)\n",
    "plt.xlabel('Value At The Quantile', fontsize=12)\n",
    "plt.legend(loc='best')\n",
    "\n",
    "#annotate the 25th, 50th, 75th and 100th percentile values....\n",
    "for x,y in zip(quantiles.index[::25], quantiles[::25]):\n",
    "    plt.annotate(s=\"({} , {})\".format(x,y), xy=(x,y), xytext=(x-0.05, y+500), fontweight='bold')\n",
    "\n",
    "plt.show()"
   ]
  },
  {
   "cell_type": "code",
   "execution_count": 106,
   "metadata": {},
   "outputs": [
    {
     "data": {
      "text/plain": [
       "0.00        1\n",
       "0.05        7\n",
       "0.10       15\n",
       "0.15       21\n",
       "0.20       27\n",
       "0.25       34\n",
       "0.30       41\n",
       "0.35       50\n",
       "0.40       60\n",
       "0.45       73\n",
       "0.50       89\n",
       "0.55      109\n",
       "0.60      133\n",
       "0.65      163\n",
       "0.70      199\n",
       "0.75      245\n",
       "0.80      307\n",
       "0.85      392\n",
       "0.90      520\n",
       "0.95      749\n",
       "1.00    17112\n",
       "Name: rating, dtype: int64"
      ]
     },
     "execution_count": 106,
     "metadata": {},
     "output_type": "execute_result"
    }
   ],
   "source": [
    "quantiles[::5]"
   ]
  },
  {
   "cell_type": "code",
   "execution_count": 107,
   "metadata": {},
   "outputs": [
    {
     "name": "stdout",
     "output_type": "stream",
     "text": [
      "NUMBER OF RATINGS AT LAST 5 PERCENTILE - 20305\n"
     ]
    }
   ],
   "source": [
    "print('NUMBER OF RATINGS AT LAST 5 PERCENTILE - {}'.format(sum(number_of_rated_movies_per_user>=749)))"
   ]
  },
  {
   "cell_type": "markdown",
   "metadata": {},
   "source": [
    "<p style=\"font-size:15px\"><b><font color=SaddleBrown>Analysis On The Ratings of Movie Given By User</font></b></p>"
   ]
  },
  {
   "cell_type": "code",
   "execution_count": 113,
   "metadata": {},
   "outputs": [
    {
     "data": {
      "text/plain": [
       "movie\n",
       "5317     179684\n",
       "15124    176811\n",
       "1905     160062\n",
       "6287     155787\n",
       "14313    153899\n",
       "Name: rating, dtype: int64"
      ]
     },
     "execution_count": 113,
     "metadata": {},
     "output_type": "execute_result"
    }
   ],
   "source": [
    "number_of_ratings_per_movie = train_data.groupby(by='movie')['rating'].count().sort_values(ascending=False)\n",
    "\n",
    "number_of_ratings_per_movie.head()"
   ]
  },
  {
   "cell_type": "code",
   "execution_count": 120,
   "metadata": {},
   "outputs": [
    {
     "data": {
      "image/png": "[encoded data removed]",
      "text/plain": [
       "<Figure size 864x504 with 1 Axes>"
      ]
     },
     "metadata": {},
     "output_type": "display_data"
    }
   ],
   "source": [
    "plt.figure(figsize=(12,7))\n",
    "\n",
    "plt.plot(number_of_ratings_per_movie.values, 'g-')\n",
    "plt.xlabel('Movie', fontsize=12)\n",
    "plt.ylabel('Number of Users Who Rated a Movie', fontsize=12)\n",
    "plt.title('Ratings Per Movie', fontsize=15)\n",
    "plt.show()"
   ]
  },
  {
   "cell_type": "markdown",
   "metadata": {},
   "source": [
    "<p style='font-size:15px'>Graph looks very skewed, just like nunmber of ratings given per user.</p>\n",
    "<p style='font-size:15px'>- There are some movies (which are very popular) which are rated by huge number of users.</p>\n",
    "<p style='font-size:15px'>- But most of the movies (like 90%) got some hundereds of ratings.</p>"
   ]
  },
  {
   "cell_type": "markdown",
   "metadata": {},
   "source": [
    "<p style=\"font-size:15px\"><b><font color=SaddleBrown>Number of Ratings On Each Day of The Week</font></b></p>"
   ]
  },
  {
   "cell_type": "code",
   "execution_count": 125,
   "metadata": {},
   "outputs": [],
   "source": [
    "day_count = train_data.groupby(by='day_of_week')['rating'].count()"
   ]
  },
  {
   "cell_type": "code",
   "execution_count": 126,
   "metadata": {},
   "outputs": [
    {
     "data": {
      "text/plain": [
       "day_of_week\n",
       "Friday       10703108\n",
       "Monday       13818790\n",
       "Saturday      7963290\n",
       "Sunday        8445834\n",
       "Thursday     11634550\n",
       "Tuesday      14221359\n",
       "Wednesday    13597474\n",
       "Name: rating, dtype: int64"
      ]
     },
     "execution_count": 126,
     "metadata": {},
     "output_type": "execute_result"
    }
   ],
   "source": [
    "day_count.head(7)"
   ]
  },
  {
   "cell_type": "code",
   "execution_count": 131,
   "metadata": {},
   "outputs": [
    {
     "data": {
      "image/png": "[encoded data removed]",
      "text/plain": [
       "<Figure size 720x432 with 1 Axes>"
      ]
     },
     "metadata": {},
     "output_type": "display_data"
    }
   ],
   "source": [
    "fig, ax = plt.subplots(figsize=(10,6))\n",
    "plt.title('Number of Ratings On Each Day', fontsize=15)\n",
    "\n",
    "sns.countplot(train_data.day_of_week)\n",
    "ax.set_yticklabels([y_axis(num, 'M') for num in ax.get_yticks()])\n",
    "plt.ylabel('Total Number of Ratings', fontsize=12)\n",
    "plt.xlabel('Days', fontsize=12)\n",
    "\n",
    "plt.show()"
   ]
  },
  {
   "cell_type": "code",
   "execution_count": 132,
   "metadata": {},
   "outputs": [
    {
     "name": "stdout",
     "output_type": "stream",
     "text": [
      "Average Ratings\n",
      "-.-.-.-.-.-.-.-.-.-.-.-.-.-.-.\n",
      "day_of_week\n",
      "Friday       3.585274\n",
      "Monday       3.577250\n",
      "Saturday     3.591791\n",
      "Sunday       3.594144\n",
      "Thursday     3.582463\n",
      "Tuesday      3.574438\n",
      "Wednesday    3.583751\n",
      "Name: rating, dtype: float64\n"
     ]
    }
   ],
   "source": [
    "avg_week_data = train_data.groupby(by=['day_of_week'])['rating'].mean()\n",
    "print(\"Average Ratings\")\n",
    "print(\"-.\"*15)\n",
    "print(avg_week_data)"
   ]
  },
  {
   "cell_type": "markdown",
   "metadata": {},
   "source": [
    "<p style=\"font-size:20px;text-align:center\"><b>Sparse and Similarity Matrix - Refer <a href=\"https://gitlab.com/akashbangalkar/netflix-movie-recommendation/-/blob/main/2_Netflix_Sim_Matrix.ipynb\">Part 2</a> Notebook</b></p>"
   ]
  }
 ],
 "metadata": {
  "kernelspec": {
   "display_name": "Python 3",
   "language": "python",
   "name": "python3"
  },
  "language_info": {
   "codemirror_mode": {
    "name": "ipython",
    "version": 3
   },
   "file_extension": ".py",
   "mimetype": "text/x-python",
   "name": "python",
   "nbconvert_exporter": "python",
   "pygments_lexer": "ipython3",
   "version": "3.6.5"
  }
 },
 "nbformat": 4,
 "nbformat_minor": 2
}
